{
 "cells": [
  {
   "cell_type": "code",
   "execution_count": null,
   "id": "04e1398a-b108-4cb8-b0af-41f9e83343b0",
   "metadata": {},
   "outputs": [],
   "source": [
    "import pandas as pd\n",
    "import numpy as np\n",
    "import subprocess\n",
    "from Bio.Seq import Seq\n",
    "import matplotlib.pyplot as plt\n",
    "import seaborn as sns\n",
    "import pathlib\n",
    "from cemba_data.utilities import get_configuration\n",
    "from cemba_data.mapping import cutoff_vs_cell_remain, plot_on_plate\n",
    "import mygene"
   ]
  },
  {
   "cell_type": "code",
   "execution_count": null,
   "id": "ed87b46b-fad1-4403-b5b4-99b451df0b05",
   "metadata": {},
   "outputs": [],
   "source": [
    "mg = mygene.MyGeneInfo()"
   ]
  },
  {
   "cell_type": "code",
   "execution_count": null,
   "id": "1618ba94-cd9f-4448-9bc1-801f7907df35",
   "metadata": {},
   "outputs": [],
   "source": [
    "gene_counts=pd.read_hdf(output_dir / 'TotalRNAData.h5', index_col=0, key='data')\n",
    "ensembl_ids = gene_counts.columns.to_list()\n",
    "result = mg.querymany(ensembl_ids[1:1000], scopes=\"ensembl.gene\", fields=\"symbol\", species=\"mouse\", as_dataframe=True)\n"
   ]
  }
 ],
 "metadata": {
  "kernelspec": {
   "display_name": "Python 3",
   "language": "python",
   "name": "python3"
  },
  "language_info": {
   "codemirror_mode": {
    "name": "ipython",
    "version": 3
   },
   "file_extension": ".py",
   "mimetype": "text/x-python",
   "name": "python",
   "nbconvert_exporter": "python",
   "pygments_lexer": "ipython3",
   "version": "3.8.3"
  }
 },
 "nbformat": 4,
 "nbformat_minor": 5
}
